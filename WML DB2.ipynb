{
 "cells": [
  {
   "cell_type": "markdown",
   "metadata": {},
   "source": [
    "# Predict Home Value using IBM Watson Machine Learning and Db2 on Cloud\n",
    "\n",
    "In this notebook, we will be showing you how to create a machine learning model to predict home sales. At the same time, we will be use IBM's Db2 on Cloud database to store and recieve data for this exercise. In this notebook, we will be going through the entire data science process of creating a model which includes: Importing Data, Preprocessing Data, Data Exploration, Data Visualization and Data Modeling. We will try to fitting our data with differeent models and see which one gives us the best resuts. At the end of this notebook, we will be deploying our model using Watson Machine Learning so it can used in an application to predict new home sales price. Hope you guys have fun!\n",
    "\n",
    "### Learning Goals\n",
    "\n",
    "The learning goals of this notebook are:\n",
    "\n",
    "    1. Load data and create dataframe by connecting to IBM Db2 on cloud\n",
    "    2. Explore and Visualize Data\n",
    "    2. Create a Sklearn models and determine which is the best model to use \n",
    "    3. Train different models and evaluate which is the best model to use \n",
    "    4. Persist a model in a Watson Machine Learning repository\n",
    "    5. Predict home value using the model\n"
   ]
  },
  {
   "cell_type": "code",
   "execution_count": 19,
   "metadata": {},
   "outputs": [
    {
     "name": "stdout",
     "output_type": "stream",
     "text": [
      "Requirement already up-to-date: ibmos2spark in /opt/conda/envs/Python36/lib/python3.6/site-packages (1.0.1)\n",
      "Requirement already up-to-date: watson-machine-learning-client in /opt/conda/envs/Python36/lib/python3.6/site-packages (1.0.371)\n",
      "Requirement already satisfied, skipping upgrade: pandas in /opt/conda/envs/Python36/lib/python3.6/site-packages (from watson-machine-learning-client) (0.24.1)\n",
      "Requirement already satisfied, skipping upgrade: requests in /opt/conda/envs/Python36/lib/python3.6/site-packages (from watson-machine-learning-client) (2.21.0)\n",
      "Requirement already satisfied, skipping upgrade: tabulate in /opt/conda/envs/Python36/lib/python3.6/site-packages (from watson-machine-learning-client) (0.8.2)\n",
      "Requirement already satisfied, skipping upgrade: certifi in /opt/conda/envs/Python36/lib/python3.6/site-packages (from watson-machine-learning-client) (2019.6.16)\n",
      "Requirement already satisfied, skipping upgrade: ibm-cos-sdk in /opt/conda/envs/Python36/lib/python3.6/site-packages (from watson-machine-learning-client) (2.4.3)\n",
      "Requirement already satisfied, skipping upgrade: urllib3 in /opt/conda/envs/Python36/lib/python3.6/site-packages (from watson-machine-learning-client) (1.24.1)\n",
      "Requirement already satisfied, skipping upgrade: lomond in /opt/conda/envs/Python36/lib/python3.6/site-packages (from watson-machine-learning-client) (0.3.3)\n",
      "Requirement already satisfied, skipping upgrade: tqdm in /opt/conda/envs/Python36/lib/python3.6/site-packages (from watson-machine-learning-client) (4.31.1)\n",
      "Requirement already satisfied, skipping upgrade: python-dateutil>=2.5.0 in /opt/conda/envs/Python36/lib/python3.6/site-packages (from pandas->watson-machine-learning-client) (2.7.5)\n",
      "Requirement already satisfied, skipping upgrade: pytz>=2011k in /opt/conda/envs/Python36/lib/python3.6/site-packages (from pandas->watson-machine-learning-client) (2018.9)\n",
      "Requirement already satisfied, skipping upgrade: numpy>=1.12.0 in /opt/conda/envs/Python36/lib/python3.6/site-packages (from pandas->watson-machine-learning-client) (1.15.4)\n",
      "Requirement already satisfied, skipping upgrade: idna<2.9,>=2.5 in /opt/conda/envs/Python36/lib/python3.6/site-packages (from requests->watson-machine-learning-client) (2.8)\n",
      "Requirement already satisfied, skipping upgrade: chardet<3.1.0,>=3.0.2 in /opt/conda/envs/Python36/lib/python3.6/site-packages (from requests->watson-machine-learning-client) (3.0.4)\n",
      "Requirement already satisfied, skipping upgrade: ibm-cos-sdk-s3transfer==2.*,>=2.0.0 in /opt/conda/envs/Python36/lib/python3.6/site-packages (from ibm-cos-sdk->watson-machine-learning-client) (2.4.3)\n",
      "Requirement already satisfied, skipping upgrade: ibm-cos-sdk-core==2.*,>=2.0.0 in /opt/conda/envs/Python36/lib/python3.6/site-packages (from ibm-cos-sdk->watson-machine-learning-client) (2.4.3)\n",
      "Requirement already satisfied, skipping upgrade: six>=1.10.0 in /opt/conda/envs/Python36/lib/python3.6/site-packages (from lomond->watson-machine-learning-client) (1.12.0)\n",
      "Requirement already satisfied, skipping upgrade: docutils>=0.10 in /opt/conda/envs/Python36/lib/python3.6/site-packages (from ibm-cos-sdk-core==2.*,>=2.0.0->ibm-cos-sdk->watson-machine-learning-client) (0.14)\n",
      "Requirement already satisfied, skipping upgrade: jmespath<1.0.0,>=0.7.1 in /opt/conda/envs/Python36/lib/python3.6/site-packages (from ibm-cos-sdk-core==2.*,>=2.0.0->ibm-cos-sdk->watson-machine-learning-client) (0.9.3)\n"
     ]
    }
   ],
   "source": [
    "!pip install --upgrade ibmos2spark\n",
    "!pip install --upgrade watson-machine-learning-client\n",
    "\n",
    "import numpy as np\n",
    "import pandas as pd"
   ]
  },
  {
   "cell_type": "markdown",
   "metadata": {},
   "source": [
    "# 1. IMPORTING DATA\n",
    "\n",
    "The first step as data scienctist is to import our data from our data source. In real a world application, your data is going to be too big to be stored locally on your computer. Due to that, your data will most likely be stored on the cloud or in some other method. For the purposes of this notebook, our data is store on IBM Db2 on Cloud. In order to retrieve data from there, we are going to import IBM's python model `ibmdbpy` that allows Python users to import data from IBM's databases. Our data is stored in schema `SKP44849` and the table name is `HOME_SALES`."
   ]
  },
  {
   "cell_type": "code",
   "execution_count": 20,
   "metadata": {},
   "outputs": [
    {
     "data": {
      "text/html": [
       "<div>\n",
       "<style scoped>\n",
       "    .dataframe tbody tr th:only-of-type {\n",
       "        vertical-align: middle;\n",
       "    }\n",
       "\n",
       "    .dataframe tbody tr th {\n",
       "        vertical-align: top;\n",
       "    }\n",
       "\n",
       "    .dataframe thead th {\n",
       "        text-align: right;\n",
       "    }\n",
       "</style>\n",
       "<table border=\"1\" class=\"dataframe\">\n",
       "  <thead>\n",
       "    <tr style=\"text-align: right;\">\n",
       "      <th></th>\n",
       "      <th>ID</th>\n",
       "      <th>LOTAREA</th>\n",
       "      <th>BLDGTYPE</th>\n",
       "      <th>HOUSESTYLE</th>\n",
       "      <th>OVERALLCOND</th>\n",
       "      <th>YEARBUILT</th>\n",
       "      <th>ROOFSTYLE</th>\n",
       "      <th>EXTERCOND</th>\n",
       "      <th>FOUNDATION</th>\n",
       "      <th>BSMTCOND</th>\n",
       "      <th>...</th>\n",
       "      <th>GARAGETYPE</th>\n",
       "      <th>GARAGEFINISH</th>\n",
       "      <th>GARAGECARS</th>\n",
       "      <th>GARAGECOND</th>\n",
       "      <th>POOLAREA</th>\n",
       "      <th>POOLQC</th>\n",
       "      <th>FENCE</th>\n",
       "      <th>MOSOLD</th>\n",
       "      <th>YRSOLD</th>\n",
       "      <th>SALEPRICE</th>\n",
       "    </tr>\n",
       "  </thead>\n",
       "  <tbody>\n",
       "    <tr>\n",
       "      <th>0</th>\n",
       "      <td>1</td>\n",
       "      <td>8450</td>\n",
       "      <td>1Fam</td>\n",
       "      <td>2Story</td>\n",
       "      <td>5</td>\n",
       "      <td>2003</td>\n",
       "      <td>Gable</td>\n",
       "      <td>TA</td>\n",
       "      <td>PConc</td>\n",
       "      <td>TA</td>\n",
       "      <td>...</td>\n",
       "      <td>Attchd</td>\n",
       "      <td>RFn</td>\n",
       "      <td>2</td>\n",
       "      <td>TA</td>\n",
       "      <td>0</td>\n",
       "      <td>NA</td>\n",
       "      <td>NA</td>\n",
       "      <td>2</td>\n",
       "      <td>2008</td>\n",
       "      <td>208500</td>\n",
       "    </tr>\n",
       "    <tr>\n",
       "      <th>1</th>\n",
       "      <td>2</td>\n",
       "      <td>9600</td>\n",
       "      <td>1Fam</td>\n",
       "      <td>1Story</td>\n",
       "      <td>8</td>\n",
       "      <td>1976</td>\n",
       "      <td>Gable</td>\n",
       "      <td>TA</td>\n",
       "      <td>CBlock</td>\n",
       "      <td>TA</td>\n",
       "      <td>...</td>\n",
       "      <td>Attchd</td>\n",
       "      <td>RFn</td>\n",
       "      <td>2</td>\n",
       "      <td>TA</td>\n",
       "      <td>0</td>\n",
       "      <td>NA</td>\n",
       "      <td>NA</td>\n",
       "      <td>5</td>\n",
       "      <td>2007</td>\n",
       "      <td>181500</td>\n",
       "    </tr>\n",
       "    <tr>\n",
       "      <th>2</th>\n",
       "      <td>3</td>\n",
       "      <td>11250</td>\n",
       "      <td>1Fam</td>\n",
       "      <td>2Story</td>\n",
       "      <td>5</td>\n",
       "      <td>2001</td>\n",
       "      <td>Gable</td>\n",
       "      <td>TA</td>\n",
       "      <td>PConc</td>\n",
       "      <td>TA</td>\n",
       "      <td>...</td>\n",
       "      <td>Attchd</td>\n",
       "      <td>RFn</td>\n",
       "      <td>2</td>\n",
       "      <td>TA</td>\n",
       "      <td>0</td>\n",
       "      <td>NA</td>\n",
       "      <td>NA</td>\n",
       "      <td>9</td>\n",
       "      <td>2008</td>\n",
       "      <td>223500</td>\n",
       "    </tr>\n",
       "    <tr>\n",
       "      <th>3</th>\n",
       "      <td>4</td>\n",
       "      <td>9550</td>\n",
       "      <td>1Fam</td>\n",
       "      <td>2Story</td>\n",
       "      <td>5</td>\n",
       "      <td>1915</td>\n",
       "      <td>Gable</td>\n",
       "      <td>TA</td>\n",
       "      <td>BrkTil</td>\n",
       "      <td>Gd</td>\n",
       "      <td>...</td>\n",
       "      <td>Detchd</td>\n",
       "      <td>Unf</td>\n",
       "      <td>3</td>\n",
       "      <td>TA</td>\n",
       "      <td>0</td>\n",
       "      <td>NA</td>\n",
       "      <td>NA</td>\n",
       "      <td>2</td>\n",
       "      <td>2006</td>\n",
       "      <td>140000</td>\n",
       "    </tr>\n",
       "    <tr>\n",
       "      <th>4</th>\n",
       "      <td>5</td>\n",
       "      <td>14260</td>\n",
       "      <td>1Fam</td>\n",
       "      <td>2Story</td>\n",
       "      <td>5</td>\n",
       "      <td>2000</td>\n",
       "      <td>Gable</td>\n",
       "      <td>TA</td>\n",
       "      <td>PConc</td>\n",
       "      <td>TA</td>\n",
       "      <td>...</td>\n",
       "      <td>Attchd</td>\n",
       "      <td>RFn</td>\n",
       "      <td>3</td>\n",
       "      <td>TA</td>\n",
       "      <td>0</td>\n",
       "      <td>NA</td>\n",
       "      <td>NA</td>\n",
       "      <td>12</td>\n",
       "      <td>2008</td>\n",
       "      <td>250000</td>\n",
       "    </tr>\n",
       "  </tbody>\n",
       "</table>\n",
       "<p>5 rows × 32 columns</p>\n",
       "</div>"
      ],
      "text/plain": [
       "   ID  LOTAREA BLDGTYPE HOUSESTYLE  OVERALLCOND  YEARBUILT ROOFSTYLE  \\\n",
       "0   1     8450     1Fam     2Story            5       2003     Gable   \n",
       "1   2     9600     1Fam     1Story            8       1976     Gable   \n",
       "2   3    11250     1Fam     2Story            5       2001     Gable   \n",
       "3   4     9550     1Fam     2Story            5       1915     Gable   \n",
       "4   5    14260     1Fam     2Story            5       2000     Gable   \n",
       "\n",
       "  EXTERCOND FOUNDATION BSMTCOND  ... GARAGETYPE GARAGEFINISH GARAGECARS  \\\n",
       "0        TA      PConc       TA  ...     Attchd          RFn          2   \n",
       "1        TA     CBlock       TA  ...     Attchd          RFn          2   \n",
       "2        TA      PConc       TA  ...     Attchd          RFn          2   \n",
       "3        TA     BrkTil       Gd  ...     Detchd          Unf          3   \n",
       "4        TA      PConc       TA  ...     Attchd          RFn          3   \n",
       "\n",
       "  GARAGECOND  POOLAREA  POOLQC  FENCE  MOSOLD YRSOLD  SALEPRICE  \n",
       "0         TA         0      NA     NA       2   2008     208500  \n",
       "1         TA         0      NA     NA       5   2007     181500  \n",
       "2         TA         0      NA     NA       9   2008     223500  \n",
       "3         TA         0      NA     NA       2   2006     140000  \n",
       "4         TA         0      NA     NA      12   2008     250000  \n",
       "\n",
       "[5 rows x 32 columns]"
      ]
     },
     "execution_count": 20,
     "metadata": {},
     "output_type": "execute_result"
    }
   ],
   "source": [
    "\n",
    "from ibmdbpy import IdaDataBase, IdaDataFrame\n",
    "\n",
    "# @hidden_cell\n",
    "# This connection object is used to access your data and contains your credentials.\n",
    "# You might want to remove those credentials before you share your notebook.\n",
    "idadb_2cffb71b4b2348ab8a466c773c64691a = IdaDataBase(dsn='DASHDB;Database=BLUDB;Hostname=dashdb-txn-sbox-yp-dal09-04.services.dal.bluemix.net;Port=50000;PROTOCOL=TCPIP;UID=skp44849;PWD=19btf^dph1ng0cnb')\n",
    "\n",
    "pd_df = IdaDataFrame(idadb_2cffb71b4b2348ab8a466c773c64691a, 'SKP44849.HOME_SALES').as_dataframe()\n",
    "pd_df.head()\n",
    "\n",
    "# You can close the database connection with the following code. Please keep the comment line with the @hidden_cell tag,\n",
    "# because the close function displays parts of the credentials.\n",
    "# @hidden_cell\n",
    "# idadb_2cffb71b4b2348ab8a466c773c64691a.close()\n",
    "# To learn more about the ibmdby package, please read the documentation: http://pythonhosted.org/ibmdbpy/\n"
   ]
  },
  {
   "cell_type": "markdown",
   "metadata": {},
   "source": [
    "By the end of this step, we should have your data imported from your data source and store in memory, so we can use it to create our model. In the next step, we are going to clean our data and make it ready for exploration and modeling."
   ]
  },
  {
   "cell_type": "markdown",
   "metadata": {},
   "source": [
    "# 2. Data Exploration\n",
    "\n",
    "In this step, we are going to try and explore our data inorder to gain insight. We hope to be able to make some assumptions of our data before we start modeling."
   ]
  },
  {
   "cell_type": "code",
   "execution_count": 21,
   "metadata": {},
   "outputs": [
    {
     "data": {
      "text/html": [
       "<div>\n",
       "<style scoped>\n",
       "    .dataframe tbody tr th:only-of-type {\n",
       "        vertical-align: middle;\n",
       "    }\n",
       "\n",
       "    .dataframe tbody tr th {\n",
       "        vertical-align: top;\n",
       "    }\n",
       "\n",
       "    .dataframe thead th {\n",
       "        text-align: right;\n",
       "    }\n",
       "</style>\n",
       "<table border=\"1\" class=\"dataframe\">\n",
       "  <thead>\n",
       "    <tr style=\"text-align: right;\">\n",
       "      <th></th>\n",
       "      <th>ID</th>\n",
       "      <th>LOTAREA</th>\n",
       "      <th>OVERALLCOND</th>\n",
       "      <th>YEARBUILT</th>\n",
       "      <th>FULLBATH</th>\n",
       "      <th>HALFBATH</th>\n",
       "      <th>BEDROOMABVGR</th>\n",
       "      <th>KITCHENABVGR</th>\n",
       "      <th>TOTRMSABVGRD</th>\n",
       "      <th>FIREPLACES</th>\n",
       "      <th>GARAGECARS</th>\n",
       "      <th>POOLAREA</th>\n",
       "      <th>MOSOLD</th>\n",
       "      <th>YRSOLD</th>\n",
       "      <th>SALEPRICE</th>\n",
       "    </tr>\n",
       "  </thead>\n",
       "  <tbody>\n",
       "    <tr>\n",
       "      <th>count</th>\n",
       "      <td>1460.000000</td>\n",
       "      <td>1460.000000</td>\n",
       "      <td>1460.000000</td>\n",
       "      <td>1460.000000</td>\n",
       "      <td>1460.000000</td>\n",
       "      <td>1460.000000</td>\n",
       "      <td>1460.000000</td>\n",
       "      <td>1460.000000</td>\n",
       "      <td>1460.000000</td>\n",
       "      <td>1460.000000</td>\n",
       "      <td>1460.000000</td>\n",
       "      <td>1460.000000</td>\n",
       "      <td>1460.000000</td>\n",
       "      <td>1460.000000</td>\n",
       "      <td>1460.000000</td>\n",
       "    </tr>\n",
       "    <tr>\n",
       "      <th>mean</th>\n",
       "      <td>730.500000</td>\n",
       "      <td>10516.828082</td>\n",
       "      <td>5.575342</td>\n",
       "      <td>1971.267808</td>\n",
       "      <td>1.565068</td>\n",
       "      <td>0.382877</td>\n",
       "      <td>2.866438</td>\n",
       "      <td>1.046575</td>\n",
       "      <td>6.517808</td>\n",
       "      <td>0.613014</td>\n",
       "      <td>1.767123</td>\n",
       "      <td>2.758904</td>\n",
       "      <td>6.321918</td>\n",
       "      <td>2007.815753</td>\n",
       "      <td>180921.195890</td>\n",
       "    </tr>\n",
       "    <tr>\n",
       "      <th>std</th>\n",
       "      <td>421.610009</td>\n",
       "      <td>9981.264932</td>\n",
       "      <td>1.112799</td>\n",
       "      <td>30.202904</td>\n",
       "      <td>0.550916</td>\n",
       "      <td>0.502885</td>\n",
       "      <td>0.815778</td>\n",
       "      <td>0.220338</td>\n",
       "      <td>1.625393</td>\n",
       "      <td>0.644666</td>\n",
       "      <td>0.747315</td>\n",
       "      <td>40.177307</td>\n",
       "      <td>2.703626</td>\n",
       "      <td>1.328095</td>\n",
       "      <td>79442.502883</td>\n",
       "    </tr>\n",
       "    <tr>\n",
       "      <th>min</th>\n",
       "      <td>1.000000</td>\n",
       "      <td>1300.000000</td>\n",
       "      <td>1.000000</td>\n",
       "      <td>1872.000000</td>\n",
       "      <td>0.000000</td>\n",
       "      <td>0.000000</td>\n",
       "      <td>0.000000</td>\n",
       "      <td>0.000000</td>\n",
       "      <td>2.000000</td>\n",
       "      <td>0.000000</td>\n",
       "      <td>0.000000</td>\n",
       "      <td>0.000000</td>\n",
       "      <td>1.000000</td>\n",
       "      <td>2006.000000</td>\n",
       "      <td>34900.000000</td>\n",
       "    </tr>\n",
       "    <tr>\n",
       "      <th>25%</th>\n",
       "      <td>365.750000</td>\n",
       "      <td>7553.500000</td>\n",
       "      <td>5.000000</td>\n",
       "      <td>1954.000000</td>\n",
       "      <td>1.000000</td>\n",
       "      <td>0.000000</td>\n",
       "      <td>2.000000</td>\n",
       "      <td>1.000000</td>\n",
       "      <td>5.000000</td>\n",
       "      <td>0.000000</td>\n",
       "      <td>1.000000</td>\n",
       "      <td>0.000000</td>\n",
       "      <td>5.000000</td>\n",
       "      <td>2007.000000</td>\n",
       "      <td>129975.000000</td>\n",
       "    </tr>\n",
       "    <tr>\n",
       "      <th>50%</th>\n",
       "      <td>730.500000</td>\n",
       "      <td>9478.500000</td>\n",
       "      <td>5.000000</td>\n",
       "      <td>1973.000000</td>\n",
       "      <td>2.000000</td>\n",
       "      <td>0.000000</td>\n",
       "      <td>3.000000</td>\n",
       "      <td>1.000000</td>\n",
       "      <td>6.000000</td>\n",
       "      <td>1.000000</td>\n",
       "      <td>2.000000</td>\n",
       "      <td>0.000000</td>\n",
       "      <td>6.000000</td>\n",
       "      <td>2008.000000</td>\n",
       "      <td>163000.000000</td>\n",
       "    </tr>\n",
       "    <tr>\n",
       "      <th>75%</th>\n",
       "      <td>1095.250000</td>\n",
       "      <td>11601.500000</td>\n",
       "      <td>6.000000</td>\n",
       "      <td>2000.000000</td>\n",
       "      <td>2.000000</td>\n",
       "      <td>1.000000</td>\n",
       "      <td>3.000000</td>\n",
       "      <td>1.000000</td>\n",
       "      <td>7.000000</td>\n",
       "      <td>1.000000</td>\n",
       "      <td>2.000000</td>\n",
       "      <td>0.000000</td>\n",
       "      <td>8.000000</td>\n",
       "      <td>2009.000000</td>\n",
       "      <td>214000.000000</td>\n",
       "    </tr>\n",
       "    <tr>\n",
       "      <th>max</th>\n",
       "      <td>1460.000000</td>\n",
       "      <td>215245.000000</td>\n",
       "      <td>9.000000</td>\n",
       "      <td>2010.000000</td>\n",
       "      <td>3.000000</td>\n",
       "      <td>2.000000</td>\n",
       "      <td>8.000000</td>\n",
       "      <td>3.000000</td>\n",
       "      <td>14.000000</td>\n",
       "      <td>3.000000</td>\n",
       "      <td>4.000000</td>\n",
       "      <td>738.000000</td>\n",
       "      <td>12.000000</td>\n",
       "      <td>2010.000000</td>\n",
       "      <td>755000.000000</td>\n",
       "    </tr>\n",
       "  </tbody>\n",
       "</table>\n",
       "</div>"
      ],
      "text/plain": [
       "                ID        LOTAREA  OVERALLCOND    YEARBUILT     FULLBATH  \\\n",
       "count  1460.000000    1460.000000  1460.000000  1460.000000  1460.000000   \n",
       "mean    730.500000   10516.828082     5.575342  1971.267808     1.565068   \n",
       "std     421.610009    9981.264932     1.112799    30.202904     0.550916   \n",
       "min       1.000000    1300.000000     1.000000  1872.000000     0.000000   \n",
       "25%     365.750000    7553.500000     5.000000  1954.000000     1.000000   \n",
       "50%     730.500000    9478.500000     5.000000  1973.000000     2.000000   \n",
       "75%    1095.250000   11601.500000     6.000000  2000.000000     2.000000   \n",
       "max    1460.000000  215245.000000     9.000000  2010.000000     3.000000   \n",
       "\n",
       "          HALFBATH  BEDROOMABVGR  KITCHENABVGR  TOTRMSABVGRD   FIREPLACES  \\\n",
       "count  1460.000000   1460.000000   1460.000000   1460.000000  1460.000000   \n",
       "mean      0.382877      2.866438      1.046575      6.517808     0.613014   \n",
       "std       0.502885      0.815778      0.220338      1.625393     0.644666   \n",
       "min       0.000000      0.000000      0.000000      2.000000     0.000000   \n",
       "25%       0.000000      2.000000      1.000000      5.000000     0.000000   \n",
       "50%       0.000000      3.000000      1.000000      6.000000     1.000000   \n",
       "75%       1.000000      3.000000      1.000000      7.000000     1.000000   \n",
       "max       2.000000      8.000000      3.000000     14.000000     3.000000   \n",
       "\n",
       "        GARAGECARS     POOLAREA       MOSOLD       YRSOLD      SALEPRICE  \n",
       "count  1460.000000  1460.000000  1460.000000  1460.000000    1460.000000  \n",
       "mean      1.767123     2.758904     6.321918  2007.815753  180921.195890  \n",
       "std       0.747315    40.177307     2.703626     1.328095   79442.502883  \n",
       "min       0.000000     0.000000     1.000000  2006.000000   34900.000000  \n",
       "25%       1.000000     0.000000     5.000000  2007.000000  129975.000000  \n",
       "50%       2.000000     0.000000     6.000000  2008.000000  163000.000000  \n",
       "75%       2.000000     0.000000     8.000000  2009.000000  214000.000000  \n",
       "max       4.000000   738.000000    12.000000  2010.000000  755000.000000  "
      ]
     },
     "execution_count": 21,
     "metadata": {},
     "output_type": "execute_result"
    }
   ],
   "source": [
    "pd_df.describe()"
   ]
  },
  {
   "cell_type": "markdown",
   "metadata": {},
   "source": [
    " The count, mean, min and max rows are self-explanatory. The std shows the standard deviation, and the 25%, 50% and 75% rows show the corresponding percentiles."
   ]
  },
  {
   "cell_type": "code",
   "execution_count": 22,
   "metadata": {},
   "outputs": [
    {
     "name": "stdout",
     "output_type": "stream",
     "text": [
      "Statistics for housing dataset:\n",
      "\n",
      "Minimum price: $34900\n",
      "Maximum price: $755000\n",
      "Mean price: $180921.19589041095\n",
      "Median price $163000.0\n",
      "Standard deviation of prices: $79415.29188606751\n"
     ]
    }
   ],
   "source": [
    "# Minimum price of the data\n",
    "minimum_price = np.amin(pd_df['SALEPRICE'])\n",
    "\n",
    "# Maximum price of the data\n",
    "maximum_price = np.amax(pd_df['SALEPRICE'])\n",
    "\n",
    "# Mean price of the data\n",
    "mean_price = np.mean(pd_df['SALEPRICE'])\n",
    "\n",
    "# Median price of the data\n",
    "median_price = np.median(pd_df['SALEPRICE'])\n",
    "\n",
    "# Standard deviation of prices of the data\n",
    "std_price = np.std(pd_df['SALEPRICE'])\n",
    "\n",
    "# Show the calculated statistics\n",
    "print(\"Statistics for housing dataset:\\n\")\n",
    "print(\"Minimum price: ${}\".format(minimum_price)) \n",
    "print(\"Maximum price: ${}\".format(maximum_price))\n",
    "print(\"Mean price: ${}\".format(mean_price))\n",
    "print(\"Median price ${}\".format(median_price))\n",
    "print(\"Standard deviation of prices: ${}\".format(std_price))"
   ]
  },
  {
   "cell_type": "markdown",
   "metadata": {},
   "source": [
    "# 3. Data Visualization\n",
    "\n",
    "As a data scientist it is important to make assumptions and hypothesiize about our data as we continue to explore our data. Some assumptions that we can make about the data are: \n",
    "\n",
    "1. Homes with more rooms will naturally worth more. Usually homes with more rooms are bigger and can fit more people, so it is reasonable that they cost more money.\n",
    "2. Homes that have recently been built will cost more. Since they are newer and probably have a better design compared to older houses. \n",
    "3. Having a garage will also increase the price of the house and will increase more as the number of cars the garage can hold increases. \n",
    "4. House Style is usually a personal opinion for the buyer, so it shouldn't have that much impact on the cost of the home sale.\n",
    "\n",
    "These are just a few of the assumptions we can make so far from our data. As we move into the visualizing our data, we hope to see patterns that are hard to notice just by looking at the numbers. "
   ]
  },
  {
   "cell_type": "code",
   "execution_count": 23,
   "metadata": {
    "pixiedust": {
     "displayParams": {}
    }
   },
   "outputs": [
    {
     "data": {
      "image/png": "[encoded data removed]",
      "text/plain": [
       "<Figure size 2160x1800 with 16 Axes>"
      ]
     },
     "metadata": {
      "needs_background": "light"
     },
     "output_type": "display_data"
    }
   ],
   "source": [
    "import matplotlib.pyplot as plt\n",
    "%matplotlib inline\n",
    "\n",
    "pd_df.hist(bins=50, figsize=(30,25))\n",
    "plt.show()"
   ]
  },
  {
   "cell_type": "markdown",
   "metadata": {},
   "source": [
    "Some of the figures are skewed a little, but most of them have a normal distribution. This is normal to have."
   ]
  },
  {
   "cell_type": "markdown",
   "metadata": {},
   "source": [
    "The variable we are going to predict is the SALEPRICE. Let’s look at how much each independent variable correlates with this dependent variable."
   ]
  },
  {
   "cell_type": "code",
   "execution_count": 24,
   "metadata": {},
   "outputs": [
    {
     "data": {
      "text/plain": [
       "SALEPRICE       1.000000\n",
       "GARAGECARS      0.640409\n",
       "FULLBATH        0.560664\n",
       "TOTRMSABVGRD    0.533723\n",
       "YEARBUILT       0.522897\n",
       "FIREPLACES      0.466929\n",
       "HALFBATH        0.284108\n",
       "LOTAREA         0.263843\n",
       "BEDROOMABVGR    0.168213\n",
       "POOLAREA        0.092404\n",
       "MOSOLD          0.046432\n",
       "ID             -0.021917\n",
       "YRSOLD         -0.028923\n",
       "OVERALLCOND    -0.077856\n",
       "KITCHENABVGR   -0.135907\n",
       "Name: SALEPRICE, dtype: float64"
      ]
     },
     "execution_count": 24,
     "metadata": {},
     "output_type": "execute_result"
    }
   ],
   "source": [
    "corr_matrix = pd_df.corr()\n",
    "corr_matrix[\"SALEPRICE\"].sort_values(ascending=False)"
   ]
  },
  {
   "cell_type": "markdown",
   "metadata": {},
   "source": [
    "The SALEPRICE seems to be increasing when the GARAGECARS and the FULLBATH increase. We can also see a negative correlation between SALEPRICE and FOUNDATION and a couple others. And finally, coefficients close to zero indicate that there is no linear correlation. However, we barely see any cofficients close to zeros, this tells us that all the attributes are important to SALEPRICE, which is the attribute we are predicting."
   ]
  },
  {
   "cell_type": "markdown",
   "metadata": {},
   "source": [
    "# 4. Modeling\n",
    "\n",
    "Now that we have cleaned and explored our data. We are ready to build our model that will predict the attribute `SALEPRICE`. One of the hardest part in the process is determining which model to use for a particular problem. However, since we are using Python's machine learning library [scikit-learn](https://scikit-learn.org/stable/), we will be able to build and test different models quickly and determine which one is the best to use. We will be building three models:\n",
    "\n",
    "\n",
    "1. [Linear Regression Model](https://towardsdatascience.com/linear-regression-using-python-b136c91bf0a2)\n",
    "2. [Random Forest Model](https://www.distilnetworks.com/glossary/term/random-forest-model/)\n",
    "3. [Gradient Boosting](https://machinelearningmastery.com/gentle-introduction-gradient-boosting-algorithm-machine-learning/)\n",
    "\n",
    "IMPORT NOTE: THE METRIC RESULTS MAY BE A LITTLE DIFFERENT SINCE WE ARE SHUFFLING THE DATA WHEN WE CALL train_test_split()"
   ]
  },
  {
   "cell_type": "markdown",
   "metadata": {},
   "source": [
    "## 4a. Splitting Our Data \n",
    "Before we can build our model, we need to split our data into test and train data. We will also be shuffling our data to make sure there isn't any bias when creating the model. Since having any bias in our model will lower the accuracy of our model. "
   ]
  },
  {
   "cell_type": "code",
   "execution_count": 25,
   "metadata": {},
   "outputs": [],
   "source": [
    "from sklearn.model_selection import train_test_split\n",
    "from sklearn.preprocessing import OneHotEncoder\n",
    "from sklearn.preprocessing import LabelEncoder\n",
    "import numpy as np\n",
    "\n",
    "# train, test = train_test_split(pd_df, test_size=0.2)\n",
    "# print(\"Number of training records: \" + str(train.count()))\n",
    "# print(\"Number of testing records : \" + str(test.count()))\n",
    "\n",
    "\n",
    "y = pd_df['SALEPRICE']\n",
    "\n",
    "pd_df = pd_df.drop(['SALEPRICE','ID'],  axis=1)\n",
    "\n",
    "\n",
    "le = LabelEncoder()\n",
    "X_2 = pd_df.apply(le.fit_transform)\n",
    "\n",
    "enc = OneHotEncoder(handle_unknown='ignore')\n",
    "ft = enc.fit(X_2)\n",
    "\n",
    "onehotlabels = enc.transform(X_2).toarray()\n",
    "onehotlabels.shape\n",
    "\n",
    "#print(onehotlabels[:,len(onehotlabels)-1])\n",
    "\n",
    "# print(onehotlabels)\n",
    "\n",
    "x = X_2\n",
    "\n",
    "#x = np.delete(onehotlabels, -1, axis=1)\n",
    "\n",
    "#y = onehotlabels[:,len(onehotlabels)-1]\n",
    "\n",
    "\n",
    "x_train, x_test, y_train, y_test = train_test_split( x,y)\n"
   ]
  },
  {
   "cell_type": "markdown",
   "metadata": {},
   "source": [
    "## 4b. Developing The Model with Linear Regression \n",
    "\n",
    "Our first model that we are going to build is a linear regression model. This is one of the simplest models to implement and also has a high accuracy as well. We will be importing the `LinearRegression` module from the `sklearn` library."
   ]
  },
  {
   "cell_type": "code",
   "execution_count": 26,
   "metadata": {},
   "outputs": [],
   "source": [
    "from sklearn.linear_model import LinearRegression\n",
    "regressor = LinearRegression(fit_intercept=False)\n",
    "linear_regression_model = regressor.fit(x_train, y_train)"
   ]
  },
  {
   "cell_type": "markdown",
   "metadata": {},
   "source": [
    "Now that we have built our model, let's use the model to predict the home sales value."
   ]
  },
  {
   "cell_type": "code",
   "execution_count": 27,
   "metadata": {},
   "outputs": [],
   "source": [
    "y_pred = regressor.predict(x_test)"
   ]
  },
  {
   "cell_type": "markdown",
   "metadata": {},
   "source": [
    "Let's take a look at the predictions our model gave us"
   ]
  },
  {
   "cell_type": "code",
   "execution_count": 28,
   "metadata": {},
   "outputs": [
    {
     "name": "stdout",
     "output_type": "stream",
     "text": [
      "Predictions: \n",
      " [213759.36681944  78132.47775109 221326.94434864 103441.92276772\n",
      " 249603.60774791 102804.3916947  219249.44790518  94345.51829835\n",
      "  90174.26372378 123240.08228761  76844.01293337 242759.95115562\n",
      " 301387.04130638 126942.99883553 295002.83558339 259223.16463846\n",
      " 258571.7328816   50509.37925198 194024.32422114 283880.06902659\n",
      " 168276.76597101 189835.25457716 354597.25951079 224108.51965976\n",
      " 193642.38882898 177835.11035938 196629.47810457 238145.77475087\n",
      " 341014.89592238  76416.6956219  188751.32493678 107621.15280892\n",
      " 318668.38577231 212200.73840781 368704.34863174 243151.70234887\n",
      " 283861.3557868  208767.52492192 165961.21203011 159346.61998329\n",
      " 203958.99145321 178070.93402262 262378.04387886 140276.03818193\n",
      " 203359.15248067 181862.65689416 215196.70194599 236636.78733525\n",
      " 210513.95628063 190481.64100605 109655.39932592 316018.15833737\n",
      " 190559.53181926 251741.1512482  161651.05112335 135917.98533225\n",
      " 138318.10495595 299022.15238195 162972.32093226 225444.05375345\n",
      " 180862.2134899  131749.60152241 131175.36813977 131656.48846353\n",
      " 283385.56774407 196793.95226459 127832.75136059 209628.80049758\n",
      " 210757.41187352 141956.34912478 213104.84146179 289703.29710945\n",
      " 118995.89972003  99099.38047558 174752.20907878 113459.51866789\n",
      " 170225.38096932 115429.82726896 185178.77158035 279619.27061979\n",
      " 260062.54543586 178033.67259307 386885.80140116 110874.1080995\n",
      " 138662.12213104 329285.07300152 254348.91308731 105549.92773864\n",
      " 256856.76718957 199864.78989079 147380.12605124 307437.24711924\n",
      " 184549.84320143 172757.78378925 197569.84559776 131910.53964174\n",
      " 106401.38328865 196185.21702782 229345.61631513  90941.10758154\n",
      "  95920.74413733 140987.56433499 109169.85287202 193982.72866046\n",
      " 204251.5171543  111560.59089886 215930.52161982  60452.09726637\n",
      "  73443.84520593 214749.47637948 224292.70955779 241218.7152398\n",
      " 211551.03018087 210002.78781307 181720.83369839 164878.35382697\n",
      " 162517.45715835 202712.81387916  90080.00892913 169256.83206831\n",
      " 110184.75454908 245457.80878567  91557.5705435  143846.8839647\n",
      " 193343.5261282  145146.06309394 148135.21474882 276914.13262967\n",
      " 134133.07690055 138184.33344165  98779.69045855 233811.55411321\n",
      " 110198.26522636  77124.82428199 160166.1106041   78115.93265905\n",
      " 121602.21157528 135843.58676148 173533.62977828 288189.03642978\n",
      " 185614.17553825 342131.49465872  65219.96895896 112974.30157417\n",
      " 234804.98457238 129615.89124332 156423.86075686 106716.55121157\n",
      " 243092.90491641 279183.21182635 171929.93463658 299301.94259651\n",
      " 237132.76230908 133801.80807349 152216.20164668 182210.37624482\n",
      " 141751.43980397 248674.72372016 232486.42239979 327019.45522665\n",
      " 103402.65980113 234832.87929515 127262.76605052 104517.51753205\n",
      " 195687.43890787 131601.75020779 104248.23183043 194335.4709892\n",
      " 140669.45289332 107119.50999795 105701.9321535  217727.00002298\n",
      " 171166.80011623 135190.19055049 231128.97588171 149242.58818843\n",
      " 215768.18563197 165832.15270029 128905.78692286 270563.00908736\n",
      " 115201.18381773 203997.13941617 149115.72923097 146992.03637621\n",
      " 113136.32402376 193861.74812086 107041.46756725 248082.78195361\n",
      "  50515.11801458 200151.84278441 260173.38124282 231160.81501883\n",
      " 280849.4539962  128453.31545149 121243.57486416 191585.2904458\n",
      " 212507.71581871  84144.92236874  76229.91976327 106043.95063717\n",
      "  43281.98571144 167183.76377762 190581.14074976 245729.2279886\n",
      " 338906.92128396 115375.28249437 232731.93963062 185309.67437691\n",
      " 232168.75136203 186284.8687999  415157.89708307 217264.60478433\n",
      "  97041.77543839 137420.15345803 134678.77200855 211235.83034151\n",
      " 136623.96093316 185187.33268562 122589.13975547 114679.4863256\n",
      " 212960.15908324  93702.51110398 239010.81650663 181651.2553957\n",
      " 134706.71211753 224235.85062206  96280.53042057  79434.00500601\n",
      " 175233.93958749 320066.03320843 171064.21369818 215361.60777788\n",
      " 133399.45647241 207940.18951221 299580.16302885 229499.60191885\n",
      " 122700.95882616 117432.0765065  101584.07724139 137866.9018842\n",
      "  90615.65024376 168302.65380914 341454.53054155 228569.9907505\n",
      " 162570.79130139 154356.7335295  242118.54850162 120214.11193261\n",
      " 153973.64694846  97073.80230333 220281.14891883 139043.68123755\n",
      " 108098.40431981 221194.29367442 231381.58414867 226648.76872783\n",
      " 148966.63113551 339910.85514854 115909.26695332 150360.29218307\n",
      "  94615.18026127 207439.58360035 358563.1121802  145197.50066013\n",
      "  74685.48771959 185475.30571426  40526.70623034 240263.42115268\n",
      " 211898.22024345 211424.69889037 273604.85554508 259105.35407216\n",
      " 145773.52929263 101764.42536943 315060.99440149  72777.4155932\n",
      " 120679.77168452 203869.0271804  122100.22658342  86475.56976184\n",
      " 234747.02796736 144554.33842443 172068.61018761  89075.18405626\n",
      " 163769.86263417 210260.47722492 151456.23089082 184392.76344439\n",
      " 112926.21741916 193396.8044057  291201.95845683 134437.19166825\n",
      " 183684.40929655 166040.38656073 237455.26353649 223474.38306132\n",
      " 105921.73230548 154058.54758709 110240.29329478 259900.17442182\n",
      " 157031.91387895 207599.49600763 221917.11386371 213508.05426971\n",
      " 132362.6893384  161057.09107176 132534.77083552 177889.74612551\n",
      " 177912.10117068 295947.46072576  92463.55712782 173701.12143496\n",
      " 241710.73931872 219134.00776557 250966.27727121  96696.32040683\n",
      " 213609.50697902 204197.60064247 123414.55867708 325015.52790177\n",
      " 381117.69153299 225856.0137048  103999.916112   142844.54632337\n",
      "  48474.71662998 255807.2467517  121446.95016229 257881.35588521\n",
      "  84562.68383321 139993.87991962 182787.20738687 222298.43921607\n",
      " 190834.04184846 217475.66350585 167577.90343177 271194.84218943\n",
      " 149203.00199077 105375.3123883  158594.5816621  230361.14581724\n",
      " 135838.61514907 264531.41953767 111815.77379193 143078.16818389\n",
      " 220257.50481992  91602.49736708 254076.55415333 193377.37944964\n",
      " 205689.03683956 347837.07351043 245588.43967977  81618.34579763\n",
      "  55050.11132507 200527.63185162 388497.1474142   64383.40726103\n",
      " 140516.32220505 125757.28415909 173875.82273699 272255.26429508\n",
      " 294011.29332934 218910.71520486 162575.79390679  65858.44164509\n",
      " 162599.18728984]\n"
     ]
    }
   ],
   "source": [
    "print('Predictions: \\n', y_pred)"
   ]
  },
  {
   "cell_type": "markdown",
   "metadata": {},
   "source": [
    "Let's also take a look at the coefficients for this model"
   ]
  },
  {
   "cell_type": "code",
   "execution_count": 29,
   "metadata": {},
   "outputs": [
    {
     "name": "stdout",
     "output_type": "stream",
     "text": [
      "Coefficients: \n",
      " [    38.15195493   -776.93186161  -1809.30158242   6898.50370258\n",
      "    515.53358687   7890.6695748     806.73004007   1673.37683299\n",
      "   2744.50706558   -173.91071684  -1087.21395035   8593.69426144\n",
      "   -600.72344923  17833.57299137   6828.99385051  -9302.49337768\n",
      " -31325.62720823 -19149.12525811  13835.56719958  15051.34011682\n",
      "  -2858.49271012    980.70070629  -4265.6948765   22492.85207803\n",
      "   -560.09268469  23756.19652891  13674.66547241   1200.35087185\n",
      "    622.2536102    -106.97688462]\n"
     ]
    }
   ],
   "source": [
    "y_pred = regressor.predict(x_test)\n",
    "# The coefficients\n",
    "print('Coefficients: \\n', regressor.coef_)\n",
    "# print('Linear Regression R squared\": %.4f' % regressor.score(x_test, y_test))"
   ]
  },
  {
   "cell_type": "markdown",
   "metadata": {},
   "source": [
    "\n",
    "\n",
    "Let's calculate root-mean-square error (RMSE) and see if we can gain more information about our model."
   ]
  },
  {
   "cell_type": "code",
   "execution_count": 30,
   "metadata": {},
   "outputs": [
    {
     "name": "stdout",
     "output_type": "stream",
     "text": [
      "Linear Regression RMSE: 39826.1481\n"
     ]
    }
   ],
   "source": [
    "import numpy as np\n",
    "from sklearn.metrics import mean_squared_error\n",
    "lin_mse = mean_squared_error(y_pred, y_test)\n",
    "lin_rmse = np.sqrt(lin_mse)\n",
    "print('Linear Regression RMSE: %.4f' % lin_rmse)"
   ]
  },
  {
   "cell_type": "markdown",
   "metadata": {},
   "source": [
    "Our model was able to predict the value of every house in the test set within $43101.9709 of the real price. \n",
    "\n",
    "\n",
    "\n"
   ]
  },
  {
   "cell_type": "code",
   "execution_count": 31,
   "metadata": {},
   "outputs": [
    {
     "name": "stdout",
     "output_type": "stream",
     "text": [
      "Linear Regression MAE: 25899.4523\n"
     ]
    }
   ],
   "source": [
    "from sklearn.metrics import mean_absolute_error\n",
    "lin_mae = mean_absolute_error(y_pred, y_test)\n",
    "print('Linear Regression MAE: %.4f' % lin_mae)"
   ]
  },
  {
   "cell_type": "markdown",
   "metadata": {},
   "source": [
    "## 4c. Devloping The Model with Random Forest\n",
    "\n",
    "Now that we tried to fit our dataset to a linear regression model. Let's try a more complex model and see if our accuracy can improve. We will fit our model to the Random Forest Model in this section. We will be importing the `RandomForestRegressor` module from the `sklearn` library."
   ]
  },
  {
   "cell_type": "code",
   "execution_count": 32,
   "metadata": {},
   "outputs": [
    {
     "name": "stderr",
     "output_type": "stream",
     "text": [
      "/opt/conda/envs/Python36/lib/python3.6/site-packages/sklearn/ensemble/forest.py:246: FutureWarning: The default value of n_estimators will change from 10 in version 0.20 to 100 in 0.22.\n",
      "  \"10 in version 0.20 to 100 in 0.22.\", FutureWarning)\n"
     ]
    },
    {
     "data": {
      "text/plain": [
       "RandomForestRegressor(bootstrap=True, criterion='mse', max_depth=None,\n",
       "           max_features='auto', max_leaf_nodes=None,\n",
       "           min_impurity_decrease=0.0, min_impurity_split=None,\n",
       "           min_samples_leaf=1, min_samples_split=2,\n",
       "           min_weight_fraction_leaf=0.0, n_estimators=10, n_jobs=None,\n",
       "           oob_score=False, random_state=42, verbose=0, warm_start=False)"
      ]
     },
     "execution_count": 32,
     "metadata": {},
     "output_type": "execute_result"
    }
   ],
   "source": [
    "from sklearn.ensemble import RandomForestRegressor\n",
    "forest_reg = RandomForestRegressor(random_state=42)\n",
    "forest_reg.fit(x_train, y_train)"
   ]
  },
  {
   "cell_type": "code",
   "execution_count": 33,
   "metadata": {},
   "outputs": [
    {
     "name": "stdout",
     "output_type": "stream",
     "text": [
      "Random Forest R squared\": 0.7272\n"
     ]
    }
   ],
   "source": [
    "print('Random Forest R squared\": %.4f' % forest_reg.score(x_test, y_test))"
   ]
  },
  {
   "cell_type": "code",
   "execution_count": 34,
   "metadata": {},
   "outputs": [
    {
     "name": "stdout",
     "output_type": "stream",
     "text": [
      "Random Forest RMSE: 41742.4499\n"
     ]
    }
   ],
   "source": [
    "y_pred = forest_reg.predict(x_test)\n",
    "forest_mse = mean_squared_error(y_pred, y_test)\n",
    "forest_rmse = np.sqrt(forest_mse)\n",
    "print('Random Forest RMSE: %.4f' % forest_rmse)"
   ]
  },
  {
   "cell_type": "markdown",
   "metadata": {},
   "source": [
    "As you can see from the metrics performed, we are getting much better results compared to the Linear Regression model. In our Linear Regression model, the R2 was around 70%, however now it has increase to 82%! This means that the Random Forest model is fitting our data much better compared to the Linear Regression Model. When comparing our RMSE, it has also decreased significantly alluding that there is less variabliity in our model now. \n",
    "\n",
    "Let's try to fit our dataset to one more model and see if we can improve our metrics."
   ]
  },
  {
   "cell_type": "markdown",
   "metadata": {},
   "source": [
    "## 4d. Devloping The Model with Gradient Boosting\n",
    "\n",
    "Our last model we are going to fit our data to is Gradient Boosting. We will be importing the `GradientBoostingRegressor` module from the `sklearn` library."
   ]
  },
  {
   "cell_type": "code",
   "execution_count": 35,
   "metadata": {},
   "outputs": [
    {
     "data": {
      "text/plain": [
       "GradientBoostingRegressor(alpha=0.9, criterion='friedman_mse', init=None,\n",
       "             learning_rate=0.1, loss='ls', max_depth=3, max_features=None,\n",
       "             max_leaf_nodes=None, min_impurity_decrease=0.0,\n",
       "             min_impurity_split=None, min_samples_leaf=1,\n",
       "             min_samples_split=2, min_weight_fraction_leaf=0.0,\n",
       "             n_estimators=100, n_iter_no_change=None, presort='auto',\n",
       "             random_state=None, subsample=1.0, tol=0.0001,\n",
       "             validation_fraction=0.1, verbose=0, warm_start=False)"
      ]
     },
     "execution_count": 35,
     "metadata": {},
     "output_type": "execute_result"
    }
   ],
   "source": [
    "from sklearn import ensemble\n",
    "from sklearn.ensemble import GradientBoostingRegressor\n",
    "model = ensemble.GradientBoostingRegressor()\n",
    "model.fit(x_train, y_train)"
   ]
  },
  {
   "cell_type": "code",
   "execution_count": 36,
   "metadata": {},
   "outputs": [
    {
     "name": "stdout",
     "output_type": "stream",
     "text": [
      "Gradient Boosting R squared\": 0.7539\n"
     ]
    }
   ],
   "source": [
    "print('Gradient Boosting R squared\": %.4f' % model.score(x_test, y_test))"
   ]
  },
  {
   "cell_type": "code",
   "execution_count": 37,
   "metadata": {},
   "outputs": [
    {
     "name": "stdout",
     "output_type": "stream",
     "text": [
      "Gradient Boosting RMSE: 39648.7992\n"
     ]
    }
   ],
   "source": [
    "y_pred = model.predict(x_test)\n",
    "model_mse = mean_squared_error(y_pred, y_test)\n",
    "model_rmse = np.sqrt(model_mse)\n",
    "print('Gradient Boosting RMSE: %.4f' % model_rmse)"
   ]
  },
  {
   "cell_type": "markdown",
   "metadata": {},
   "source": [
    "We notice that the metrics are significantly better than the Linear Regression model, however not as good as the Random Forest model."
   ]
  },
  {
   "cell_type": "markdown",
   "metadata": {},
   "source": [
    "# 5. Deploying Model\n",
    "\n",
    "From our evalution, we can see that our Random Forest Model performed best out of the models we trained. For this reason we are going to use the that model for deploy. Below are the instructions to deploy our model."
   ]
  },
  {
   "cell_type": "code",
   "execution_count": 38,
   "metadata": {},
   "outputs": [],
   "source": [
    "from watson_machine_learning_client import WatsonMachineLearningAPIClient\n",
    "wml_credentials = {\n",
    "    \"apikey\": \"lTTmIn-wYlhjFNADvEZnTMkNxZk2X9gRbUWruUHure8E\",\n",
    "    \"username\": \"298f9780-c3a0-4bee-a884-44fa9f43fd8d\",\n",
    "    \"password\": \"3f4909b0-f69e-4b2e-9ed1-7b6a864fedad\",\n",
    "    \"instance_id\": \"1f171325-6a6f-4e5b-978c-0954f87d2188\",\n",
    "    \"url\": \"https://us-south.ml.cloud.ibm.com\"\n",
    "}\n",
    "client = WatsonMachineLearningAPIClient(wml_credentials)"
   ]
  },
  {
   "cell_type": "code",
   "execution_count": 39,
   "metadata": {},
   "outputs": [
    {
     "name": "stdout",
     "output_type": "stream",
     "text": [
      "Runtimes URL: https://us-south.ml.cloud.ibm.com/v4/runtimes/96084e00-42e5-49c3-8fc2-f378171f8016\n",
      "Runtimes UID: 96084e00-42e5-49c3-8fc2-f378171f8016\n"
     ]
    }
   ],
   "source": [
    "runtimes_meta = {\n",
    "    client.runtimes.ConfigurationMetaNames.NAME: \"Home_Sale_Model\", \n",
    "    client.runtimes.ConfigurationMetaNames.DESCRIPTION: \"Home Sale Model hype\", \n",
    "    client.runtimes.ConfigurationMetaNames.PLATFORM: { \"name\": \"python\", \"version\": \"3.6\" }, \n",
    "}\n",
    "runtime_details = client.runtimes.store(runtimes_meta)\n",
    "runtime_details\n",
    "runtime_url = client.runtimes.get_url(runtime_details)\n",
    "runtime_uid = client.runtimes.get_uid(runtime_details)\n",
    "print(\"Runtimes URL: \" + runtime_url)\n",
    "print(\"Runtimes UID: \" + runtime_uid)"
   ]
  },
  {
   "cell_type": "code",
   "execution_count": 40,
   "metadata": {},
   "outputs": [
    {
     "name": "stdout",
     "output_type": "stream",
     "text": [
      "{\n",
      "  \"metadata\": {\n",
      "    \"guid\": \"f5052e1f-32ca-4f56-9e71-09f2fb1047f6\",\n",
      "    \"url\": \"https://us-south.ml.cloud.ibm.com/v3/wml_instances/1f171325-6a6f-4e5b-978c-0954f87d2188/published_models/f5052e1f-32ca-4f56-9e71-09f2fb1047f6\",\n",
      "    \"created_at\": \"2019-07-29T18:36:55.269Z\",\n",
      "    \"modified_at\": \"2019-07-29T18:36:55.331Z\"\n",
      "  },\n",
      "  \"entity\": {\n",
      "    \"runtime_environment\": \"python-3.6\",\n",
      "    \"learning_configuration_url\": \"https://us-south.ml.cloud.ibm.com/v3/wml_instances/1f171325-6a6f-4e5b-978c-0954f87d2188/published_models/f5052e1f-32ca-4f56-9e71-09f2fb1047f6/learning_configuration\",\n",
      "    \"name\": \"Home Sale Model hype\",\n",
      "    \"learning_iterations_url\": \"https://us-south.ml.cloud.ibm.com/v3/wml_instances/1f171325-6a6f-4e5b-978c-0954f87d2188/published_models/f5052e1f-32ca-4f56-9e71-09f2fb1047f6/learning_iterations\",\n",
      "    \"feedback_url\": \"https://us-south.ml.cloud.ibm.com/v3/wml_instances/1f171325-6a6f-4e5b-978c-0954f87d2188/published_models/f5052e1f-32ca-4f56-9e71-09f2fb1047f6/feedback\",\n",
      "    \"latest_version\": {\n",
      "      \"url\": \"https://us-south.ml.cloud.ibm.com/v3/ml_assets/models/f5052e1f-32ca-4f56-9e71-09f2fb1047f6/versions/a5ab5b0d-0a9c-4faf-b3a3-9a30eafdc26e\",\n",
      "      \"guid\": \"a5ab5b0d-0a9c-4faf-b3a3-9a30eafdc26e\",\n",
      "      \"created_at\": \"2019-07-29T18:36:55.331Z\"\n",
      "    },\n",
      "    \"model_type\": \"scikit-learn-0.20\",\n",
      "    \"deployments\": {\n",
      "      \"count\": 0,\n",
      "      \"url\": \"https://us-south.ml.cloud.ibm.com/v3/wml_instances/1f171325-6a6f-4e5b-978c-0954f87d2188/published_models/f5052e1f-32ca-4f56-9e71-09f2fb1047f6/deployments\"\n",
      "    },\n",
      "    \"evaluation_metrics_url\": \"https://us-south.ml.cloud.ibm.com/v3/wml_instances/1f171325-6a6f-4e5b-978c-0954f87d2188/published_models/f5052e1f-32ca-4f56-9e71-09f2fb1047f6/evaluation_metrics\",\n",
      "    \"runtime\": {\n",
      "      \"url\": \"https://us-south.ml.cloud.ibm.com/v4/runtimes/96084e00-42e5-49c3-8fc2-f378171f8016\"\n",
      "    }\n",
      "  }\n",
      "}\n"
     ]
    }
   ],
   "source": [
    "model_props = {client.repository.ModelMetaNames.NAME: \"Home Sale Model hype\",\n",
    "               client.repository.ModelMetaNames.RUNTIME_UID: runtime_uid\n",
    "              }\n",
    "published_model = client.repository.store_model(model=forest_reg, meta_props=model_props)\n",
    "import json\n",
    "published_model_uid = client.repository.get_model_uid(published_model)\n",
    "model_details = client.repository.get_details(published_model_uid)\n",
    "print(json.dumps(model_details, indent=2))\n"
   ]
  },
  {
   "cell_type": "code",
   "execution_count": 41,
   "metadata": {},
   "outputs": [
    {
     "name": "stdout",
     "output_type": "stream",
     "text": [
      "\n",
      "\n",
      "#######################################################################################\n",
      "\n",
      "Synchronous deployment creation for uid: 'f5052e1f-32ca-4f56-9e71-09f2fb1047f6' started\n",
      "\n",
      "#######################################################################################\n",
      "\n",
      "\n",
      "INITIALIZING\n",
      "DEPLOY_SUCCESS\n",
      "\n",
      "\n",
      "------------------------------------------------------------------------------------------------\n",
      "Successfully finished deployment creation, deployment_uid='be461422-0e0a-4013-bf54-fc63e7b027f3'\n",
      "------------------------------------------------------------------------------------------------\n",
      "\n",
      "\n"
     ]
    }
   ],
   "source": [
    "created_deployment = client.deployments.create(published_model_uid, name=\"Home_Sale_Model\")"
   ]
  },
  {
   "cell_type": "markdown",
   "metadata": {},
   "source": [
    "# 6.  Predict using the deployed mode"
   ]
  },
  {
   "cell_type": "markdown",
   "metadata": {},
   "source": [
    "Get the URL that is to be used for prediction. The prediction URL is obtained from the deployment details of the deployment created above."
   ]
  },
  {
   "cell_type": "code",
   "execution_count": 42,
   "metadata": {},
   "outputs": [
    {
     "name": "stdout",
     "output_type": "stream",
     "text": [
      "https://us-south.ml.cloud.ibm.com/v3/wml_instances/1f171325-6a6f-4e5b-978c-0954f87d2188/deployments/be461422-0e0a-4013-bf54-fc63e7b027f3/online\n"
     ]
    }
   ],
   "source": [
    "scoring_endpoint = client.deployments.get_scoring_url(created_deployment)\n",
    "print(scoring_endpoint)"
   ]
  },
  {
   "cell_type": "markdown",
   "metadata": {},
   "source": [
    "Prepare the payload for prediction. The payload contains the input records for which predictions has to be performed."
   ]
  },
  {
   "cell_type": "code",
   "execution_count": 43,
   "metadata": {},
   "outputs": [],
   "source": [
    "scoring_payload = {'fields': ['LOTAREA', 'BLDGTYPE', 'HOUSESTYLE', 'OVERALLCOND', 'YEARBUILT',\n",
    "       'ROOFSTYLE', 'EXTERCOND', 'FOUNDATION', 'BSMTCOND', 'HEATING',\n",
    "       'HEATINGQC', 'CENTRALAIR', 'ELECTRICAL', 'FULLBATH', 'HALFBATH',\n",
    "       'BEDROOMABVGR', 'KITCHENABVGR', 'KITCHENQUAL', 'TOTRMSABVGRD',\n",
    "       'FIREPLACES', 'FIREPLACEQU', 'GARAGETYPE', 'GARAGEFINISH', 'GARAGECARS',\n",
    "       'GARAGECOND', 'POOLAREA', 'POOLQC', 'FENCE', 'MOSOLD', 'YRSOLD' ], \n",
    "                   'values': [[598,0,2,7,0,1,4,1,4,1, 0,1,5,2,0,3,1,3,4,1,5,1,2,2,5,0,3,4,4,1]]}"
   ]
  },
  {
   "cell_type": "markdown",
   "metadata": {},
   "source": [
    "Execute the method to perform online predictions and display the prediction results."
   ]
  },
  {
   "cell_type": "code",
   "execution_count": 44,
   "metadata": {},
   "outputs": [],
   "source": [
    "predictions = client.deployments.score(scoring_endpoint, scoring_payload)"
   ]
  },
  {
   "cell_type": "code",
   "execution_count": 45,
   "metadata": {},
   "outputs": [
    {
     "name": "stdout",
     "output_type": "stream",
     "text": [
      "{\n",
      "  \"fields\": [\n",
      "    \"prediction\"\n",
      "  ],\n",
      "  \"values\": [\n",
      "    [\n",
      "      175400.0\n",
      "    ]\n",
      "  ]\n",
      "}\n"
     ]
    }
   ],
   "source": [
    "print(json.dumps(predictions, indent=2))"
   ]
  },
  {
   "cell_type": "markdown",
   "metadata": {},
   "source": [
    "# 7. Conclusion"
   ]
  },
  {
   "cell_type": "markdown",
   "metadata": {},
   "source": [
    "At the end of our modeling step, we built three models: `Linear Regression`, `Random Forest` and `Gradient Boosting`. We noticed that the `Random Forest` model gave us the best results compared to the other two. We could also say that our `Random Forest` model did the best job in describing our dataset compared to the other models."
   ]
  },
  {
   "cell_type": "markdown",
   "metadata": {},
   "source": [
    "Hopefully you were able to experience the Data Science process through these steps. As well as learn how to use IBM's Db2 on Cloud database as a data source for future machine learning projects and IBM's Watson Studio as a platform to build models. See you guys next time!"
   ]
  }
 ],
 "metadata": {
  "kernelspec": {
   "display_name": "Python 3.6",
   "language": "python",
   "name": "python3"
  },
  "language_info": {
   "codemirror_mode": {
    "name": "ipython",
    "version": 3
   },
   "file_extension": ".py",
   "mimetype": "text/x-python",
   "name": "python",
   "nbconvert_exporter": "python",
   "pygments_lexer": "ipython3",
   "version": "3.6.8"
  }
 },
 "nbformat": 4,
 "nbformat_minor": 1
}
